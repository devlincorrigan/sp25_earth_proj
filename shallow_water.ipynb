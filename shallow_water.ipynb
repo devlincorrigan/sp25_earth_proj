{
 "cells": [
  {
   "cell_type": "code",
   "execution_count": 1,
   "id": "564e24b7",
   "metadata": {},
   "outputs": [],
   "source": [
    "import numpy as np\n",
    "import xarray as xr\n",
    "import matplotlib.pyplot as plt"
   ]
  },
  {
   "cell_type": "code",
   "execution_count": 2,
   "id": "13a13e69",
   "metadata": {},
   "outputs": [],
   "source": [
    "# --- Physical constants ---\n",
    "g = 9.80665 # gravitational acceleration, approx 9.81 m s^{-2}\n",
    "Omega = 7.292115 * 10**(-5)  # Earth's angular velocity, rad/s"
   ]
  },
  {
   "cell_type": "code",
   "execution_count": 3,
   "id": "96656e14",
   "metadata": {},
   "outputs": [],
   "source": [
    "# grid spacing\n",
    "Delta_x = 500 # meters (east-west)\n",
    "Delta_y = Delta_x # (north-south)\n",
    "\n",
    "# time step\n",
    "Delta_t = 0.05 # seconds\n",
    "\n",
    "# # Old Code - Large scale \n",
    "\n",
    "# # grid spacing\n",
    "# Delta_x = 10**5 # meters (east-west)\n",
    "# Delta_y = Delta_x # (north-south)\n",
    "\n",
    "# # time step\n",
    "# Delta_t = 60 # seconds"
   ]
  },
  {
   "cell_type": "code",
   "execution_count": 4,
   "id": "38dbc760",
   "metadata": {},
   "outputs": [],
   "source": [
    "num_x = 451 # number of east-west grid points\n",
    "num_y = 501 # number of north-south grid points\n",
    "num_t = 20000 # number of time steps\n",
    "\n",
    "# # Old Code\n",
    "# num_x = 254 # number of east-west grid points\n",
    "# num_y = 50 # number of north-south grid points\n",
    "# num_t = 720 # number of time steps"
   ]
  },
  {
   "cell_type": "code",
   "execution_count": 5,
   "id": "8611a0ef",
   "metadata": {},
   "outputs": [
    {
     "name": "stdout",
     "output_type": "stream",
     "text": [
      "Total east-west distance: 225000 meters\n",
      "Total north-south distance: 250000 meters\n"
     ]
    }
   ],
   "source": [
    "print(f\"Total east-west distance: { Delta_x * (num_x - 1) } meters\")\n",
    "print(f\"Total north-south distance: { Delta_y * (num_y - 1) } meters\")"
   ]
  },
  {
   "cell_type": "code",
   "execution_count": 6,
   "id": "8eebfac7",
   "metadata": {},
   "outputs": [],
   "source": [
    "# for plotting\n",
    "x = np.arange(0, num_x) * Delta_x # x nodes\n",
    "y = np.arange(0, num_y) * Delta_y # y nodes\n",
    "X, Y = np.meshgrid(x, y, indexing='ij')"
   ]
  },
  {
   "cell_type": "code",
   "execution_count": 7,
   "id": "5e9ac816",
   "metadata": {},
   "outputs": [],
   "source": [
    "# eta =  7 * np.exp(-((X-70000))**2)\n",
    "# smooth_south = np.where(Y <= 40000, np.exp(-((Y - 40000)/15000)**2), 1.0) # smooth the southern boundary\n",
    "# smooth_north = np.where(Y >= 210000, np.exp(-((Y - 210000)/15000)**2), 1.0) # smooth the northern boundary\n",
    "# eta = eta * smooth_south * smooth_north # eta = sea level\n",
    "\n",
    "sigma_x = 15000  # Width in X-direction\n",
    "sigma_y = 15000\n",
    "eta = 7 * np.exp(-((X - 70000)**2 / (2 * sigma_x**2) + (Y - 125000)**2 / (2 * sigma_y**2)))\n",
    "\n",
    "# # # Old code\n",
    "# # --- Initial height with Gaussian pulse ---\n",
    "# std_pulse = 8.0 * Delta_y\n",
    "# mean_x = np.mean(x)  # Center of the domain (east-west)\n",
    "# mean_y = np.mean(y)  # Center of the domain (north-south)\n",
    "# eta = 3500.0 + 300.0 * np.exp(-((X - 0.25 * mean_x)**2 + (Y - .3 * mean_y)**2) / (2.0 * std_pulse**2)) # eta = upper surface\n",
    "\n",
    "\n"
   ]
  },
  {
   "cell_type": "code",
   "execution_count": 8,
   "id": "0d100fc3",
   "metadata": {},
   "outputs": [
    {
     "data": {
      "image/png": "[encoded data removed]",
      "text/plain": [
       "<Figure size 640x480 with 2 Axes>"
      ]
     },
     "metadata": {},
     "output_type": "display_data"
    }
   ],
   "source": [
    "vmin = -5\n",
    "vmax = 5\n",
    "contour = plt.contourf(X / 1000, Y / 1000, eta, levels=20, cmap='RdBu', vmin=vmin, vmax=vmax)\n",
    "plt.colorbar(contour, label='ocean surface height (m)')\n",
    "plt.xlabel('east-west (km)')\n",
    "plt.ylabel('north-south (km)')\n",
    "#plt.xlim(65, 75)\n",
    "plt.title(\"Surface\")\n",
    "plt.show()\n",
    "\n",
    "# # Old Code \n",
    "\n",
    "# plt.figure(figsize=(12, 6))\n",
    "\n",
    "# # Contour plot of height field\n",
    "# contour = plt.contourf(X/1000, Y/1000, eta, levels=20, cmap='viridis')  # Convert to km for axes\n",
    "# plt.colorbar(contour, label='Height (m)')\n",
    "\n",
    "# # Mark the center of the pulse\n",
    "# pulse_center_x = 0.25 * np.mean(x)\n",
    "# pulse_center_y = np.mean(y)\n",
    "# plt.scatter(pulse_center_x/1000, pulse_center_y/1000, c='red', s=50, label='Pulse Center')\n",
    "\n",
    "# # Annotations and labels\n",
    "# plt.xlabel('East-West Distance (km)')\n",
    "# plt.ylabel('North-South Distance (km)')\n",
    "# plt.title(f'Initial Height Field with Gaussian Pulse\\n(Peak: {eta.max():.1f} m, Center at {pulse_center_x/1000:.1f} km E-W)')\n",
    "# plt.legend()\n",
    "# plt.grid(True, alpha=0.3)\n",
    "\n",
    "# # Add scale annotation\n",
    "# plt.text(0.02, 0.95, f'Pulse width (σ): {std_pulse/1000:.1f} km', \n",
    "#          transform=plt.gca().transAxes, backgroundcolor='white')\n",
    "\n",
    "# plt.tight_layout()\n",
    "# plt.show()"
   ]
  },
  {
   "cell_type": "code",
   "execution_count": 9,
   "id": "db1963e2",
   "metadata": {},
   "outputs": [
    {
     "name": "stdout",
     "output_type": "stream",
     "text": [
      "x-coordinate varies along rows\n",
      "[[     0      0      0 ...      0      0      0]\n",
      " [   500    500    500 ...    500    500    500]\n",
      " [  1000   1000   1000 ...   1000   1000   1000]\n",
      " ...\n",
      " [224000 224000 224000 ... 224000 224000 224000]\n",
      " [224500 224500 224500 ... 224500 224500 224500]\n",
      " [225000 225000 225000 ... 225000 225000 225000]]\n",
      "\n",
      "y-coordinate varies along columns\n",
      "[[     0    500   1000 ... 249000 249500 250000]\n",
      " [     0    500   1000 ... 249000 249500 250000]\n",
      " [     0    500   1000 ... 249000 249500 250000]\n",
      " ...\n",
      " [     0    500   1000 ... 249000 249500 250000]\n",
      " [     0    500   1000 ... 249000 249500 250000]\n",
      " [     0    500   1000 ... 249000 249500 250000]]\n"
     ]
    }
   ],
   "source": [
    "print('x-coordinate varies along rows')\n",
    "print(X) # x varies along rows\n",
    "print(\"\\ny-coordinate varies along columns\") \n",
    "print(Y) # y varies along columns\n",
    "# thus eta(x, y) = eta[x, y], i.e., mathematical function notation and computer matrix notation coincide.\n",
    "# (if we had x vary along columns, and y vary along rows, then eta(x, y) = eta[y, x], which is annoying to code.)"
   ]
  },
  {
   "cell_type": "code",
   "execution_count": 10,
   "id": "d7ee7a64",
   "metadata": {},
   "outputs": [],
   "source": [
    "b = np.zeros((num_x, num_y)) - 500 # flat sea floor\n",
    "\n",
    "# tsunami attempt\n",
    "# b = np.where(X <= 70000, -.014 * X, -987)\n",
    "# b = np.where(X<50000, -.0025 * X, 0)\n",
    "# b += np.where((X >= 50000) & (X < 60000), 2375 -.05 * X, 0)\n",
    "# b += np.where((X >= 60000) & (X<=70000), 1697 - .0387 * X, 0)\n",
    "# b += np.where(X>70000, -1012, 0)\n",
    "\n",
    "# using old scaling\n",
    "# b = np.zeros((num_x, num_y)) # flat sea floor\n"
   ]
  },
  {
   "cell_type": "code",
   "execution_count": 11,
   "id": "6c877982",
   "metadata": {},
   "outputs": [
    {
     "data": {
      "image/png": "[encoded data removed]",
      "text/plain": [
       "<Figure size 640x480 with 2 Axes>"
      ]
     },
     "metadata": {},
     "output_type": "display_data"
    }
   ],
   "source": [
    "contour = plt.contourf(X / 1000, Y / 1000, b, cmap='RdBu', levels=20, vmin = -1000, vmax = 0)\n",
    "plt.colorbar(contour, label='bottom (m)')\n",
    "plt.xlabel('east-west (km)')\n",
    "plt.ylabel('north-south (km)')\n",
    "plt.grid(True)\n",
    "plt.title(\"Bottom\")\n",
    "plt.show()"
   ]
  },
  {
   "cell_type": "code",
   "execution_count": 12,
   "id": "9d433a4e",
   "metadata": {},
   "outputs": [],
   "source": [
    "# --- Coriolis Force ---\n",
    "f = np.zeros((num_x, num_y)) \n",
    "\n",
    "# beta plane approximation\n",
    "latitude = 45 # degrees North\n",
    "f_0 = 2 * Omega * np.sin(np.radians(latitude))\n",
    "beta = 1e-10\n",
    "f = f_0 + beta * (Y-np.mean(y))"
   ]
  },
  {
   "cell_type": "code",
   "execution_count": 13,
   "id": "42589493",
   "metadata": {},
   "outputs": [],
   "source": [
    "# initialize velocity field\n",
    "u = np.zeros((num_x, num_y)) # meters per second\n",
    "v = np.zeros((num_x, num_y))"
   ]
  },
  {
   "cell_type": "code",
   "execution_count": 14,
   "id": "72d2dbfa",
   "metadata": {},
   "outputs": [],
   "source": [
    "add_noise = False\n",
    "\n",
    "if add_noise:\n",
    "    eta += np.random.random(eta.shape) - 0.5\n",
    "    u += np.random.random(u.shape) - 0.5 \n",
    "    v += + np.random.random(v.shape) - 0.5\n",
    "    b += np.random.random(b.shape) - 0.5"
   ]
  },
  {
   "cell_type": "code",
   "execution_count": 15,
   "id": "08cad17d",
   "metadata": {},
   "outputs": [],
   "source": [
    "h = eta - b"
   ]
  },
  {
   "cell_type": "code",
   "execution_count": 16,
   "id": "9d56ca50",
   "metadata": {},
   "outputs": [],
   "source": [
    "import finite_vol as fv"
   ]
  },
  {
   "cell_type": "code",
   "execution_count": 17,
   "id": "826725fd",
   "metadata": {},
   "outputs": [],
   "source": [
    "n_output = 500 # plot every n_output timesteps\n",
    "i = 0 # name the plot"
   ]
  },
  {
   "cell_type": "code",
   "execution_count": 18,
   "id": "4aeaa01b",
   "metadata": {},
   "outputs": [],
   "source": [
    "for n in range(0, num_t):\n",
    "    #sources\n",
    "    S_u = f[1:-1, 1:-1] * v[1:-1, 1:-1] - g * (b[2:,1:-1] - b[0:-2,1:-1]) / (2 * Delta_x)\n",
    "    S_v = -f[1:-1, 1:-1] * u[1:-1, 1:-1] - g * (b[1:-1,2:] - b[1:-1,0:-2]) / (2 * Delta_y)\n",
    "\n",
    "    (unew, vnew, h_new) = fv.finite_vol(Delta_x, Delta_y, Delta_t, g, u, v, h, S_u, S_v)\n",
    "    u[1:-1, 1:-1] = unew\n",
    "    v[1:-1, 1:-1] = vnew\n",
    "    h[1:-1, 1:-1] = h_new\n",
    "\n",
    "    if np.mod(n, n_output) == 0:\n",
    "        eta = b + h #update surface\n",
    "\n",
    "        #plotting surface\n",
    "        vmin = -5\n",
    "        vmax = 5\n",
    "        contour = plt.contourf(X / 1000, Y / 1000, eta, levels=20, cmap='RdBu', vmin=vmin, vmax=vmax)\n",
    "        plt.colorbar(contour, label='ocean surface height (m)')\n",
    "        plt.xlabel('east-west (km)')\n",
    "        plt.ylabel('north-south (km)')\n",
    "        plt.title(f'surface after {Delta_t * n} seconds')\n",
    "        plt.grid(True)\n",
    "\n",
    "        # Save the figure\n",
    "        plt.savefig(f'surface_{i}.png', dpi=150, bbox_inches='tight')\n",
    "        plt.close()  # Prevents memory overload\n",
    "        i += 1\n",
    "\n",
    "        # OLD CODE\n",
    "        # # =====================================\n",
    "        # # Plot perturbation height from a reference level\n",
    "        # # =====================================\n",
    "\n",
    "        # max_u = np.sqrt(np.max(u**2 + v**2)) \n",
    "\n",
    "        # plt.figure(figsize=(12, 6))\n",
    "        # eta = b + h  # free surface height\n",
    "        \n",
    "        # # Contour plot\n",
    "        # vmin = -100  # Minimum color height\n",
    "        # vmax = 100   # Maximum color height\n",
    "\n",
    "        # contour = plt.contourf(\n",
    "        #         X/1000, Y/1000, eta - 3500, \n",
    "        #         levels=20, cmap='RdBu', \n",
    "        #         vmin=vmin, vmax=vmax  # Fix color scale\n",
    "        # )\n",
    "        # plt.colorbar(contour, label='Perturbation height (m)')\n",
    "        \n",
    "        # # Add quiver plot for velocity (optional)\n",
    "        # quiver_step = 5  # Plot every 5th arrow for clarity\n",
    "        # plt.quiver(X[::quiver_step, ::quiver_step]/1000, \n",
    "        #            Y[::quiver_step, ::quiver_step]/1000,\n",
    "        #            u[::quiver_step, ::quiver_step],\n",
    "        #            v[::quiver_step, ::quiver_step],\n",
    "        #            scale=100, color='black')\n",
    "\n",
    "        # # Annotations\n",
    "        # plt.xlabel('East-West Distance (km)')\n",
    "        # plt.ylabel('North-South Distance (km)')\n",
    "        # plt.title(f'Perturbation Height at t = {n*Delta_t/3600.:.2f} hours\\nMax velocity = {max_u:.2f} m/s')\n",
    "        # plt.grid(True, alpha=0.3)\n",
    "        \n",
    "        # # Save the figure (optional)\n",
    "        # plt.savefig(f'perturbation_height_{n:03d}.png', dpi=150, bbox_inches='tight')\n",
    "        # plt.close()  # Prevents memory overload\n",
    "\n",
    "\n",
    "    # boundary conditions    \n",
    "\n",
    "    # # first x-slice\n",
    "    # u[0, 1:-1] = unew[-1, :]\n",
    "    # u[0, 0] = unew[-1, 0]\n",
    "    # u[0, -1] = unew[-1, -1]\n",
    "    # v[0, 1:-1] = vnew[-1, :]\n",
    "    # v[0, 0] = vnew[-1, 0]\n",
    "    # v[0, -1] = vnew[-1, -1]\n",
    "    # # last x-slice\n",
    "    # u[-1, 1:-1] = unew[1, :]\n",
    "    # u[-1 ,0] = unew[1, 0]\n",
    "    # u[-1, -1] = unew[1, -1]\n",
    "    # v[-1, 1:-1] = vnew[1, :]\n",
    "    # v[-1, 0] = vnew[1, 0]\n",
    "    # v[-1, -1] = vnew[1, -1]\n",
    "\n",
    "    # # # first y-slice\n",
    "    # # u[1:-2, 0] = unew[0:-1, -1]\n",
    "    # # v[1:-2, 0] = vnew[0:-1, -1]\n",
    "\n",
    "    # # #last y-slice\n",
    "    # # u[1:-2, -1] = unew[0:-1, 0]\n",
    "    # # v[1:-2, -1] = vnew[0:-1, 0]\n",
    "\n",
    "    # # no flux from north / south\n",
    "    # v[:,[0,-1]]=0.\n",
    "    \n",
    "    # # first x-slice\n",
    "    # h[0,1:-1]=h_new[-1,:]\n",
    "    # # last x-slice\n",
    "    # h[-1,1:-1]=h_new[1,:]\n",
    "\n",
    "    # #first y-slice\n",
    "    # h[1:-2, 0] = h_new[0:-1, -1]\n",
    "    # #last y-slice\n",
    "    # h[1:-2, -1] = h_new[0:-1, 0]\n",
    "\n",
    "    # #v2\n",
    "    # # East-West Periodic (existing)\n",
    "    # u[0, 1:-1] = unew[-1, :]   # First x-slice = Last x-slice\n",
    "    # u[-1, 1:-1] = unew[1, :]    # Last x-slice = First x-slice\n",
    "    # v[0, 1:-1] = vnew[-1, :]    # Repeat for v\n",
    "    # v[-1, 1:-1] = vnew[1, :]\n",
    "\n",
    "    # # North-South Periodic (new)\n",
    "    # u[1:-1, 0] = unew[:, -1]     # First y-slice = Last y-slice\n",
    "    # u[1:-1, -1] = unew[:, 1]     # Last y-slice = First y-slice\n",
    "    # v[1:-1, 0] = vnew[:, -1]     # Repeat for v\n",
    "    # v[1:-1, -1] = vnew[:, 1]"
   ]
  },
  {
   "cell_type": "markdown",
   "id": "f2e99ddd",
   "metadata": {},
   "source": []
  }
 ],
 "metadata": {
  "kernelspec": {
   "display_name": ".venv",
   "language": "python",
   "name": "python3"
  },
  "language_info": {
   "codemirror_mode": {
    "name": "ipython",
    "version": 3
   },
   "file_extension": ".py",
   "mimetype": "text/x-python",
   "name": "python",
   "nbconvert_exporter": "python",
   "pygments_lexer": "ipython3",
   "version": "3.13.3"
  }
 },
 "nbformat": 4,
 "nbformat_minor": 5
}
